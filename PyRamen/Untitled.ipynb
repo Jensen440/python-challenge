{
 "cells": [
  {
   "cell_type": "code",
   "execution_count": 7,
   "id": "e9f4de22-9045-4578-b35f-3c4b72469cb5",
   "metadata": {},
   "outputs": [
    {
     "data": {
      "text/plain": [
       "<bound method NDFrame.describe of        Line_Item_ID        Date  Credit_Card_Number  Quantity  \\\n",
       "0                 1  01-01-2017    7437926611570799         1   \n",
       "1                 2  01-01-2017    7437926611570799         1   \n",
       "2                 3  01-01-2017    8421920068932819         3   \n",
       "3                 4  01-01-2017    8421920068932819         3   \n",
       "4                 5  01-01-2017    4787310681569648         1   \n",
       "...             ...         ...                 ...       ...   \n",
       "74119         74120  12-31-2018    1697055332228941         4   \n",
       "74120         74121  12-31-2018    6800009643487106         1   \n",
       "74121         74122  12-31-2018    6800009643487106         1   \n",
       "74122         74123  12-31-2018    5981057609583653         2   \n",
       "74123         74124  12-31-2018    5981057609583653         2   \n",
       "\n",
       "                   Menu_Item  \n",
       "0           spicy miso ramen  \n",
       "1           spicy miso ramen  \n",
       "2          tori paitan ramen  \n",
       "3          tori paitan ramen  \n",
       "4       truffle butter ramen  \n",
       "...                      ...  \n",
       "74119         tonkotsu ramen  \n",
       "74120  vegetarian spicy miso  \n",
       "74121  vegetarian spicy miso  \n",
       "74122       spicy miso ramen  \n",
       "74123       spicy miso ramen  \n",
       "\n",
       "[74124 rows x 5 columns]>"
      ]
     },
     "execution_count": 7,
     "metadata": {},
     "output_type": "execute_result"
    }
   ],
   "source": [
    "# import pandas and path libraries\n",
    "import pandas as pd\n",
    "from pathlib import Path\n",
    "\n",
    "# Setting the file path\n",
    "file_path = Path('../../Starter_Code_2/PyRamen/Resources/menu_data.csv')\n",
    "\n",
    "# Reading in the CSV as a DataFrame\n",
    "menu_data_csv = pd.read_csv('../../Starter_Code_2/PyRamen/Resources/menu_data.csv')\n",
    "\n",
    "sales_data_csv = pd.read_csv('../../Starter_Code_2/PyRamen/Resources/sales_data.csv')\n",
    "\n",
    "#sales_data_csv.describe\n",
    "\n",
    "sales_data_csv.describe"
   ]
  },
  {
   "cell_type": "code",
   "execution_count": null,
   "id": "5a07f193-45b4-47f6-9b6c-699eaf623b42",
   "metadata": {},
   "outputs": [],
   "source": []
  }
 ],
 "metadata": {
  "kernelspec": {
   "display_name": "Python 3 (ipykernel)",
   "language": "python",
   "name": "python3"
  },
  "language_info": {
   "codemirror_mode": {
    "name": "ipython",
    "version": 3
   },
   "file_extension": ".py",
   "mimetype": "text/x-python",
   "name": "python",
   "nbconvert_exporter": "python",
   "pygments_lexer": "ipython3",
   "version": "3.7.13"
  }
 },
 "nbformat": 4,
 "nbformat_minor": 5
}
