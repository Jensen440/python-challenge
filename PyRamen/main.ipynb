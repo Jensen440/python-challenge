{
 "cells": [
  {
   "cell_type": "code",
   "execution_count": 339,
   "id": "d318f252-8925-4d85-b7f6-7a0563f2ea36",
   "metadata": {
    "tags": []
   },
   "outputs": [
    {
     "name": "stdout",
     "output_type": "stream",
     "text": [
      "{}\n"
     ]
    }
   ],
   "source": [
    "# import pandas and path libraries\n",
    "import pandas as pd\n",
    "from pathlib import Path\n",
    "\n",
    "# Setting the file path\n",
    "file_path = Path('../../Starter_Code_2/PyRamen/Resources/menu_data.csv')\n",
    "\n",
    "# Reading in the CSV as a DataFrame\n",
    "menu_data_csv = pd.read_csv('../../Starter_Code_2/PyRamen/Resources/menu_data.csv')\n",
    "\n",
    "# initialize empty 'menu' list\n",
    "menu = []\n",
    "\n",
    "# import csv library to enable reading\n",
    "import csv\n",
    "# initializing columns\n",
    "col1, col2, col3 = [],[],[]\n",
    "# open menu_data.csv using with statement\n",
    "with open('../../Starter_Code_2/PyRamen/Resources/menu_data.csv', 'r') as file:\n",
    "    # use reader function to start reading menu_data.csv\n",
    "    reader = csv.reader(file)\n",
    "    # skip the headers\n",
    "    next(reader, None)\n",
    "    # Loop over rest of rows and append to 'menu' list\n",
    "    for row in reader:\n",
    "        col1.append(row[0])\n",
    "        col2.append(row[3])\n",
    "        col3.append(row[4])\n",
    "        i = 0\n",
    "    while i <len(menu):\n",
    "        i = i + 1\n",
    "\n",
    "# Setting the file path\n",
    "file_path = Path('../../Starter_Code_2/PyRamen/Resources/sales_data.csv')\n",
    "\n",
    "# Reading in the CSV as a DataFrame\n",
    "sales_data_csv = pd.read_csv('../../Starter_Code_2/PyRamen/Resources/sales_data.csv')\n",
    "\n",
    "# initialize empty 'sales' list\n",
    "sales = []\n",
    "\n",
    "col4 = []\n",
    "col5 = []\n",
    "# open sales_data.csv using with statement\n",
    "with open('../../Starter_Code_2/PyRamen/Resources/sales_data.csv', 'r') as file:\n",
    "    # use reader function to start reading sales_data.csv\n",
    "    reader = csv.reader(file)\n",
    "    # skip the headers\n",
    "    next(reader, None)\n",
    "    # Loop over rest of rows and append to 'sales' list\n",
    "    for row in reader:\n",
    "        col4.append(row[3])\n",
    "        col5.append(row[4])\n",
    "    # loop through every row in 'sales'\n",
    "    i = 0\n",
    "    while i <len(sales):\n",
    "        i = i + 1\n",
    "\n",
    "# initialize a 'report' dictionary\n",
    "report = {}\n",
    "    \n",
    "# set the quantity and menu_item columns to variables\n",
    "quantity = sales_data_csv[\"Quantity\"]\n",
    "menu_item = sales_data_csv[\"Menu_Item\"]\n",
    "\n",
    "# initialize sales_item dictionary\n",
    "sales_item = {}\n",
    "\n",
    "\n",
    "# loop through every row in 'menu'\n",
    "i = 0\n",
    "while i <len(menu):\n",
    "    i = i + 1\n",
    "    \n",
    "# set item, price, and cost to variables\n",
    "item = menu_data_csv[\"item\"]\n",
    "price = menu_data_csv[\"price\"]\n",
    "cost = menu_data_csv[\"cost\"]\n",
    "\n",
    "for sales in menu:\n",
    "    if 'menu_item' in 'item':\n",
    "        %%capture = quantity\n",
    "        report[\"01-count\"] += quantity\n",
    "        report[\"02-revenue\"] += price * quantity\n",
    "        report[\"03-cogs\"] += cost * quantity\n",
    "        report[\"04-profit\"] += (profit - cost) * quantity\n",
    "    else:\n",
    "        print((menu_item) + \" does not equal \" + (item) + \"! NO MATCH!\")\n",
    "    \n",
    "with open(\"report_output.txt\",'w') as data:\n",
    "    data.write(str(report))\n",
    "                 \n",
    "print(report)"
   ]
  },
  {
   "cell_type": "code",
   "execution_count": null,
   "id": "eedd1c65-97f7-4189-a905-0f40aefa0519",
   "metadata": {
    "jupyter": {
     "source_hidden": true
    },
    "tags": []
   },
   "outputs": [],
   "source": []
  },
  {
   "cell_type": "code",
   "execution_count": null,
   "id": "54e0c180-9a68-4601-8c09-08ca8e179063",
   "metadata": {
    "jupyter": {
     "source_hidden": true
    },
    "tags": []
   },
   "outputs": [],
   "source": []
  }
 ],
 "metadata": {
  "kernelspec": {
   "display_name": "Python 3 (ipykernel)",
   "language": "python",
   "name": "python3"
  },
  "language_info": {
   "codemirror_mode": {
    "name": "ipython",
    "version": 3
   },
   "file_extension": ".py",
   "mimetype": "text/x-python",
   "name": "python",
   "nbconvert_exporter": "python",
   "pygments_lexer": "ipython3",
   "version": "3.7.13"
  }
 },
 "nbformat": 4,
 "nbformat_minor": 5
}
