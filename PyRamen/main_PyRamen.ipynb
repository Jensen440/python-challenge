{
 "cells": [
  {
   "cell_type": "code",
   "execution_count": 1,
   "id": "d318f252-8925-4d85-b7f6-7a0563f2ea36",
   "metadata": {
    "tags": []
   },
   "outputs": [],
   "source": [
    "# import pandas and path libraries\n",
    "import pandas as pd\n",
    "import csv\n",
    "from pathlib import Path\n",
    "\n",
    "# Setting the file path\n",
    "file_path = Path('../../Starter_Code_2/PyRamen/Resources/menu_data.csv')\n",
    "\n",
    "# Reading in the CSV as a DataFrame\n",
    "menu_data_csv = pd.read_csv('../../Starter_Code_2/PyRamen/Resources/menu_data.csv')\n",
    "\n",
    "# initialize empty 'menu' list\n",
    "menu = []\n",
    "\n",
    "# initializing columns\n",
    "col1, col2, col3 = [],[],[]\n",
    "\n",
    "# open menu_data.csv using with statement\n",
    "with open('../../Starter_Code_2/PyRamen/Resources/menu_data.csv', 'r') as file:\n",
    "    \n",
    "    # use reader function to start reading menu_data.csv\n",
    "    reader = csv.reader(file)\n",
    "    \n",
    "    # skip the headers\n",
    "    next(reader, None)\n",
    "    \n",
    "    # Loop over rest of rows and append to 'menu' list\n",
    "    for row in reader:\n",
    "        menu.append(row[0])\n",
    "        menu.append(row[1])\n",
    "        menu.append(row[2])\n",
    "        menu.append(row[3])\n",
    "        menu.append(row[4])\n",
    "        "
   ]
  },
  {
   "cell_type": "code",
   "execution_count": 2,
   "id": "eedd1c65-97f7-4189-a905-0f40aefa0519",
   "metadata": {
    "tags": []
   },
   "outputs": [],
   "source": [
    "# Setting the file path\n",
    "file_path = Path('../../Starter_Code_2/PyRamen/Resources/sales_data.csv')\n",
    "\n",
    "# Reading in the CSV as a DataFrame\n",
    "sales_data_csv = pd.read_csv('../../Starter_Code_2/PyRamen/Resources/sales_data.csv')\n",
    "\n",
    "# initialize empty 'sales' list\n",
    "sales = []\n",
    "\n",
    "# open sales_data.csv using with statement\n",
    "with open('../../Starter_Code_2/PyRamen/Resources/sales_data.csv', 'r') as file:\n",
    "    \n",
    "    # use reader function to start reading sales_data.csv\n",
    "    reader = csv.reader(file)\n",
    "    \n",
    "    # skip the headers\n",
    "    next(reader, None)\n",
    "    \n",
    "    # Loop over rest of rows and append to 'sales' list\n",
    "    for row in reader:\n",
    "        sales.append(row[0])\n",
    "        sales.append(row[1])\n",
    "        sales.append(row[2])\n",
    "        sales.append(row[3])\n",
    "        sales.append(row[4])\n",
    "        "
   ]
  },
  {
   "cell_type": "code",
   "execution_count": 14,
   "id": "54e0c180-9a68-4601-8c09-08ca8e179063",
   "metadata": {
    "tags": []
   },
   "outputs": [
    {
     "name": "stdout",
     "output_type": "stream",
     "text": [
      "{'spicy miso ramen': {'01-count': 0, '02-revenue': 0, '03-cogs': 0, '04-profit': 0}, 'tori paitan ramen': {'01-count': 0, '02-revenue': 0, '03-cogs': 0, '04-profit': 0}, 'truffle butter ramen': {'01-count': 0, '02-revenue': 0, '03-cogs': 0, '04-profit': 0}, 'tonkotsu ramen': {'01-count': 0, '02-revenue': 0, '03-cogs': 0, '04-profit': 0}, 'vegetarian spicy miso': {'01-count': 0, '02-revenue': 0, '03-cogs': 0, '04-profit': 0}, 'shio ramen': {'01-count': 0, '02-revenue': 0, '03-cogs': 0, '04-profit': 0}, 'miso crab ramen': {'01-count': 0, '02-revenue': 0, '03-cogs': 0, '04-profit': 0}, 'nagomi shoyu': {'01-count': 0, '02-revenue': 0, '03-cogs': 0, '04-profit': 0}, 'soft-shell miso crab ramen': {'01-count': 0, '02-revenue': 0, '03-cogs': 0, '04-profit': 0}, 'burnt garlic tonkotsu ramen': {'01-count': 0, '02-revenue': 0, '03-cogs': 0, '04-profit': 0}, 'vegetarian curry + king trumpet mushroom ramen': {'01-count': 0, '02-revenue': 0, '03-cogs': 0, '04-profit': 0}}\n"
     ]
    }
   ],
   "source": [
    "# initialize a 'report' dictionary\n",
    "report = {}\n",
    "    \n",
    "\n",
    "# open sales_data.csv using with statement\n",
    "with open('../../Starter_Code_2/PyRamen/Resources/sales_data.csv', 'r') as file:\n",
    "    \n",
    "    # use reader function to start reading sales_data.csv\n",
    "    reader = csv.reader(file)\n",
    "    \n",
    "    # skip the headers\n",
    "    next(reader, None)\n",
    "    \n",
    "# set the quantity and sales_item columns to variables        \n",
    "    for row in reader:\n",
    "\n",
    "        sales_item = row[4]\n",
    "        quantity = row[3]\n",
    "        \n",
    "# check if the sales_item is included in report, if it isn't initialize key-value pairs for sales_item in 'report'\n",
    "        if sales_item not in report:\n",
    "            report[sales_item] = {\n",
    "\"01-count\": 0,\n",
    "\"02-revenue\": 0,\n",
    "\"03-cogs\": 0,\n",
    "\"04-profit\": 0,\n",
    "}\n",
    "        else:\n",
    "            continue\n",
    "    \n",
    "print(report)"
   ]
  },
  {
   "cell_type": "code",
   "execution_count": null,
   "id": "7201b6ae-2b06-4d28-adb9-f723d80c558c",
   "metadata": {},
   "outputs": [],
   "source": []
  },
  {
   "cell_type": "code",
   "execution_count": null,
   "id": "e42bbed2-0383-472e-a95e-f3b518d93596",
   "metadata": {},
   "outputs": [],
   "source": [
    "# set item, price, and cost to variables\n",
    "item = menu_data_csv[\"item\"]\n",
    "price = menu_data_csv[\"price\"]\n",
    "cost = menu_data_csv[\"cost\"]\n",
    "\n",
    "for sales in menu:\n",
    "    if 'menu_item' in 'item':\n",
    "        %%capture = quantity\n",
    "        report[\"01-count\"] += quantity\n",
    "        report[\"02-revenue\"] += price * quantity\n",
    "        report[\"03-cogs\"] += cost * quantity\n",
    "        report[\"04-profit\"] += (profit - cost) * quantity\n",
    "    else:\n",
    "        print((menu_item) + \" does not equal \" + (item) + \"! NO MATCH!\")\n",
    "    \n",
    "with open(\"report_output.txt\",'w') as data:\n",
    "    data.write(str(report))\n"
   ]
  }
 ],
 "metadata": {
  "kernelspec": {
   "display_name": "Python 3 (ipykernel)",
   "language": "python",
   "name": "python3"
  },
  "language_info": {
   "codemirror_mode": {
    "name": "ipython",
    "version": 3
   },
   "file_extension": ".py",
   "mimetype": "text/x-python",
   "name": "python",
   "nbconvert_exporter": "python",
   "pygments_lexer": "ipython3",
   "version": "3.7.13"
  }
 },
 "nbformat": 4,
 "nbformat_minor": 5
}
